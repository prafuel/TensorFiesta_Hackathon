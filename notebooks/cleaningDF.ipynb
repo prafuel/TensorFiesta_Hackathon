{
 "cells": [
  {
   "cell_type": "code",
   "execution_count": 136,
   "metadata": {},
   "outputs": [],
   "source": [
    "import pandas as pd\n",
    "import numpy as np"
   ]
  },
  {
   "cell_type": "code",
   "execution_count": 137,
   "metadata": {},
   "outputs": [
    {
     "data": {
      "text/html": [
       "<div>\n",
       "<style scoped>\n",
       "    .dataframe tbody tr th:only-of-type {\n",
       "        vertical-align: middle;\n",
       "    }\n",
       "\n",
       "    .dataframe tbody tr th {\n",
       "        vertical-align: top;\n",
       "    }\n",
       "\n",
       "    .dataframe thead th {\n",
       "        text-align: right;\n",
       "    }\n",
       "</style>\n",
       "<table border=\"1\" class=\"dataframe\">\n",
       "  <thead>\n",
       "    <tr style=\"text-align: right;\">\n",
       "      <th></th>\n",
       "      <th>SKU</th>\n",
       "      <th>PRODUCT_NAME</th>\n",
       "      <th>PRICE</th>\n",
       "      <th>PRODUCT_CATEGORY</th>\n",
       "      <th>PACK_SIZE</th>\n",
       "      <th>REVIEW_COUNT</th>\n",
       "      <th>REVIEW_DATE</th>\n",
       "      <th>REVIEW_TIME</th>\n",
       "      <th>PRICE_RATING</th>\n",
       "      <th>QUALITY_RATING</th>\n",
       "      <th>VALUE_RATING</th>\n",
       "      <th>REVIEW_CONTENT</th>\n",
       "      <th>URL</th>\n",
       "      <th>DATE_OF_CREATION</th>\n",
       "      <th>LAST_UPDATED_DATE</th>\n",
       "      <th>STATES</th>\n",
       "    </tr>\n",
       "  </thead>\n",
       "  <tbody>\n",
       "    <tr>\n",
       "      <th>0</th>\n",
       "      <td>8904417301922</td>\n",
       "      <td>Moisture Matte Longstay Lipstick - 2g | Citrus...</td>\n",
       "      <td>499.00</td>\n",
       "      <td>face</td>\n",
       "      <td>2g</td>\n",
       "      <td>NaN</td>\n",
       "      <td>NaN</td>\n",
       "      <td>NaN</td>\n",
       "      <td>NaN</td>\n",
       "      <td>NaN</td>\n",
       "      <td>NaN</td>\n",
       "      <td>NaN</td>\n",
       "      <td>https://mamaearth.in/product/moisture-matte-lo...</td>\n",
       "      <td>2022-09-13</td>\n",
       "      <td>2022-09-19</td>\n",
       "      <td>Uttar Pradesh</td>\n",
       "    </tr>\n",
       "    <tr>\n",
       "      <th>1</th>\n",
       "      <td>8904417301915</td>\n",
       "      <td>Moisture Matte Longstay Lipstick - 2g | Berryl...</td>\n",
       "      <td>499.00</td>\n",
       "      <td>Other</td>\n",
       "      <td>2g</td>\n",
       "      <td>NaN</td>\n",
       "      <td>NaN</td>\n",
       "      <td>NaN</td>\n",
       "      <td>NaN</td>\n",
       "      <td>NaN</td>\n",
       "      <td>NaN</td>\n",
       "      <td>NaN</td>\n",
       "      <td>https://mamaearth.in/product/moisture-matte-lo...</td>\n",
       "      <td>2022-09-13</td>\n",
       "      <td>2022-09-19</td>\n",
       "      <td>Arunachal Pradesh</td>\n",
       "    </tr>\n",
       "    <tr>\n",
       "      <th>2</th>\n",
       "      <td>8904417301908</td>\n",
       "      <td>Moisture Matte Longstay Lipstick -2g  | Cherry...</td>\n",
       "      <td>499.00</td>\n",
       "      <td>face</td>\n",
       "      <td>2g</td>\n",
       "      <td>NaN</td>\n",
       "      <td>NaN</td>\n",
       "      <td>NaN</td>\n",
       "      <td>NaN</td>\n",
       "      <td>NaN</td>\n",
       "      <td>NaN</td>\n",
       "      <td>NaN</td>\n",
       "      <td>https://mamaearth.in/product/moisture-matte-lo...</td>\n",
       "      <td>2022-09-13</td>\n",
       "      <td>2022-09-19</td>\n",
       "      <td>Karnataka</td>\n",
       "    </tr>\n",
       "    <tr>\n",
       "      <th>3</th>\n",
       "      <td>8904417301892</td>\n",
       "      <td>Moisture Matte Long Stay Lipstick - 2g | Pink ...</td>\n",
       "      <td>499.00</td>\n",
       "      <td>face</td>\n",
       "      <td>2g</td>\n",
       "      <td>NaN</td>\n",
       "      <td>NaN</td>\n",
       "      <td>NaN</td>\n",
       "      <td>NaN</td>\n",
       "      <td>NaN</td>\n",
       "      <td>NaN</td>\n",
       "      <td>NaN</td>\n",
       "      <td>https://mamaearth.in/product/moisture-matte-lo...</td>\n",
       "      <td>2022-09-13</td>\n",
       "      <td>2022-09-19</td>\n",
       "      <td>Gujarat</td>\n",
       "    </tr>\n",
       "    <tr>\n",
       "      <th>4</th>\n",
       "      <td>8904417303377</td>\n",
       "      <td>Vitamin C Daily Glow Face Cream - 80 g - Pack ...</td>\n",
       "      <td>498.00</td>\n",
       "      <td>skin</td>\n",
       "      <td>80g</td>\n",
       "      <td>2.0</td>\n",
       "      <td>2022-09-13</td>\n",
       "      <td>18:33:56</td>\n",
       "      <td>5.0</td>\n",
       "      <td>0.0</td>\n",
       "      <td>0.0</td>\n",
       "      <td>Like</td>\n",
       "      <td>https://mamaearth.in/product/vitamin-c-daily-g...</td>\n",
       "      <td>2022-09-01</td>\n",
       "      <td>2022-09-12</td>\n",
       "      <td>Madhya Pradesh</td>\n",
       "    </tr>\n",
       "  </tbody>\n",
       "</table>\n",
       "</div>"
      ],
      "text/plain": [
       "             SKU                                       PRODUCT_NAME   PRICE  \\\n",
       "0  8904417301922  Moisture Matte Longstay Lipstick - 2g | Citrus...  499.00   \n",
       "1  8904417301915  Moisture Matte Longstay Lipstick - 2g | Berryl...  499.00   \n",
       "2  8904417301908  Moisture Matte Longstay Lipstick -2g  | Cherry...  499.00   \n",
       "3  8904417301892  Moisture Matte Long Stay Lipstick - 2g | Pink ...  499.00   \n",
       "4  8904417303377  Vitamin C Daily Glow Face Cream - 80 g - Pack ...  498.00   \n",
       "\n",
       "  PRODUCT_CATEGORY PACK_SIZE  REVIEW_COUNT REVIEW_DATE REVIEW_TIME  \\\n",
       "0             face        2g           NaN         NaN         NaN   \n",
       "1            Other        2g           NaN         NaN         NaN   \n",
       "2             face        2g           NaN         NaN         NaN   \n",
       "3             face        2g           NaN         NaN         NaN   \n",
       "4             skin       80g           2.0  2022-09-13    18:33:56   \n",
       "\n",
       "   PRICE_RATING  QUALITY_RATING  VALUE_RATING REVIEW_CONTENT  \\\n",
       "0           NaN             NaN           NaN            NaN   \n",
       "1           NaN             NaN           NaN            NaN   \n",
       "2           NaN             NaN           NaN            NaN   \n",
       "3           NaN             NaN           NaN            NaN   \n",
       "4           5.0             0.0           0.0           Like   \n",
       "\n",
       "                                                 URL DATE_OF_CREATION  \\\n",
       "0  https://mamaearth.in/product/moisture-matte-lo...       2022-09-13   \n",
       "1  https://mamaearth.in/product/moisture-matte-lo...       2022-09-13   \n",
       "2  https://mamaearth.in/product/moisture-matte-lo...       2022-09-13   \n",
       "3  https://mamaearth.in/product/moisture-matte-lo...       2022-09-13   \n",
       "4  https://mamaearth.in/product/vitamin-c-daily-g...       2022-09-01   \n",
       "\n",
       "  LAST_UPDATED_DATE             STATES  \n",
       "0        2022-09-19      Uttar Pradesh  \n",
       "1        2022-09-19  Arunachal Pradesh  \n",
       "2        2022-09-19          Karnataka  \n",
       "3        2022-09-19            Gujarat  \n",
       "4        2022-09-12     Madhya Pradesh  "
      ]
     },
     "execution_count": 137,
     "metadata": {},
     "output_type": "execute_result"
    }
   ],
   "source": [
    "df = pd.read_csv(\"./reviews.csv\", encoding='utf-8')\n",
    "df.head()"
   ]
  },
  {
   "cell_type": "code",
   "execution_count": 138,
   "metadata": {},
   "outputs": [
    {
     "data": {
      "text/plain": [
       "Index(['SKU', 'PRODUCT_NAME', 'PRICE', 'PRODUCT_CATEGORY', 'PACK_SIZE',\n",
       "       'REVIEW_COUNT', 'REVIEW_DATE', 'REVIEW_TIME', 'PRICE_RATING',\n",
       "       'QUALITY_RATING', 'VALUE_RATING', 'REVIEW_CONTENT', 'URL',\n",
       "       'DATE_OF_CREATION', 'LAST_UPDATED_DATE', 'STATES'],\n",
       "      dtype='object')"
      ]
     },
     "execution_count": 138,
     "metadata": {},
     "output_type": "execute_result"
    }
   ],
   "source": [
    "df.columns"
   ]
  },
  {
   "cell_type": "code",
   "execution_count": 139,
   "metadata": {},
   "outputs": [
    {
     "name": "stdout",
     "output_type": "stream",
     "text": [
      "<class 'pandas.core.frame.DataFrame'>\n",
      "RangeIndex: 31814 entries, 0 to 31813\n",
      "Data columns (total 16 columns):\n",
      " #   Column             Non-Null Count  Dtype  \n",
      "---  ------             --------------  -----  \n",
      " 0   SKU                31814 non-null  object \n",
      " 1   PRODUCT_NAME       31814 non-null  object \n",
      " 2   PRICE              31814 non-null  object \n",
      " 3   PRODUCT_CATEGORY   31814 non-null  object \n",
      " 4   PACK_SIZE          31814 non-null  object \n",
      " 5   REVIEW_COUNT       31773 non-null  float64\n",
      " 6   REVIEW_DATE        31773 non-null  object \n",
      " 7   REVIEW_TIME        31773 non-null  object \n",
      " 8   PRICE_RATING       31773 non-null  float64\n",
      " 9   QUALITY_RATING     31773 non-null  float64\n",
      " 10  VALUE_RATING       31773 non-null  float64\n",
      " 11  REVIEW_CONTENT     31768 non-null  object \n",
      " 12  URL                31814 non-null  object \n",
      " 13  DATE_OF_CREATION   31814 non-null  object \n",
      " 14  LAST_UPDATED_DATE  31814 non-null  object \n",
      " 15  STATES             31814 non-null  object \n",
      "dtypes: float64(4), object(12)\n",
      "memory usage: 3.9+ MB\n"
     ]
    }
   ],
   "source": [
    "df.info()"
   ]
  },
  {
   "cell_type": "code",
   "execution_count": 140,
   "metadata": {},
   "outputs": [],
   "source": [
    "clean = df.copy()"
   ]
  },
  {
   "cell_type": "code",
   "execution_count": 141,
   "metadata": {},
   "outputs": [],
   "source": [
    "# Lowercase to column names of main dataframe\n",
    "clean.columns=[col.lower() for col in df.columns]"
   ]
  },
  {
   "cell_type": "code",
   "execution_count": 142,
   "metadata": {},
   "outputs": [],
   "source": [
    "# for price column -> object -> float -> int\n",
    "clean['price'] = clean['price'].str.replace(\",\",'').astype(float).astype(int)"
   ]
  },
  {
   "cell_type": "code",
   "execution_count": 143,
   "metadata": {},
   "outputs": [],
   "source": [
    "# for product_category column -> make lowercase\n",
    "clean['product_category'] = clean['product_category'].str.lower().str.strip()"
   ]
  },
  {
   "cell_type": "code",
   "execution_count": 144,
   "metadata": {},
   "outputs": [],
   "source": [
    "# NaN_2_Zero \n",
    "def NaN_2_Zero(value):\n",
    "    value = str(value).lower()\n",
    "    if value == 'nan':\n",
    "        return 0\n",
    "    return value"
   ]
  },
  {
   "cell_type": "code",
   "execution_count": 145,
   "metadata": {},
   "outputs": [],
   "source": [
    "# for review_count -> NaN -> 0\n",
    "clean['review_count'] = clean['review_count'].apply(NaN_2_Zero).astype(float).astype(int)"
   ]
  },
  {
   "cell_type": "code",
   "execution_count": 146,
   "metadata": {},
   "outputs": [],
   "source": [
    "# for review_date -> Nan -> 0\n",
    "clean['review_date'] = clean['review_date'].apply(NaN_2_Zero)"
   ]
  },
  {
   "cell_type": "code",
   "execution_count": 147,
   "metadata": {},
   "outputs": [],
   "source": [
    "# for review_time -> Nan -> 0\n",
    "clean['review_time'] = clean['review_time'].apply(NaN_2_Zero)"
   ]
  },
  {
   "cell_type": "code",
   "execution_count": 148,
   "metadata": {},
   "outputs": [],
   "source": [
    "# price_rating\n",
    "clean['price_rating'] = clean['price_rating'].apply(NaN_2_Zero).astype(float).astype(int)"
   ]
  },
  {
   "cell_type": "code",
   "execution_count": 149,
   "metadata": {},
   "outputs": [],
   "source": [
    "# Quality rating\n",
    "clean['quality_rating'] = clean['quality_rating'].apply(NaN_2_Zero).astype(float).astype(int)"
   ]
  },
  {
   "cell_type": "code",
   "execution_count": 150,
   "metadata": {},
   "outputs": [],
   "source": [
    "# Value rating\n",
    "clean['value_rating'] = clean['value_rating'].apply(NaN_2_Zero).astype(float).astype(int)"
   ]
  },
  {
   "cell_type": "code",
   "execution_count": 151,
   "metadata": {},
   "outputs": [],
   "source": [
    "# review_content\n",
    "clean['review_content'] = clean['review_content'].apply(NaN_2_Zero)"
   ]
  },
  {
   "cell_type": "code",
   "execution_count": 152,
   "metadata": {},
   "outputs": [],
   "source": [
    "# States\n",
    "clean['states'] = clean['states'].apply(NaN_2_Zero)"
   ]
  },
  {
   "cell_type": "code",
   "execution_count": 153,
   "metadata": {},
   "outputs": [],
   "source": [
    "# date_of_creation -> year_of_creation, month_of_creation, day_of_creation\n",
    "clean['year_of_creation'] = clean['date_of_creation'].apply(lambda x : x[0:4])\n",
    "clean['month_of_creation'] = clean['date_of_creation'].apply(lambda x : int(x[5:7]))\n",
    "clean['day_of_creation'] = clean['date_of_creation'].apply(lambda x : int(x[8:10]))"
   ]
  },
  {
   "cell_type": "code",
   "execution_count": 154,
   "metadata": {},
   "outputs": [],
   "source": [
    "# last_updated_date -> last_updated_year,  last_updated_month,  last_updated_day\n",
    "clean['last_updated_year'] = clean['date_of_creation'].apply(lambda x : x[0:4])\n",
    "clean['last_updated_month'] = clean['last_updated_date'].apply(lambda x : int(x[5:7]))\n",
    "clean['last_updated_day'] = clean['last_updated_date'].apply(lambda x : int(x[8:10]))"
   ]
  },
  {
   "cell_type": "code",
   "execution_count": 167,
   "metadata": {},
   "outputs": [],
   "source": [
    "# getting product image url from url column\n",
    "from bs4 import BeautifulSoup\n",
    "import requests\n",
    "\n",
    "def product_img_url(url: str):\n",
    "    res = requests.get(url)\n",
    "    soup = BeautifulSoup(res.content, 'lxml')\n",
    "    img = soup.findAll('img')[5]\n",
    "    print(img)\n",
    "    return img['src']"
   ]
  },
  {
   "cell_type": "code",
   "execution_count": 168,
   "metadata": {},
   "outputs": [
    {
     "data": {
      "text/html": [
       "<div>\n",
       "<style scoped>\n",
       "    .dataframe tbody tr th:only-of-type {\n",
       "        vertical-align: middle;\n",
       "    }\n",
       "\n",
       "    .dataframe tbody tr th {\n",
       "        vertical-align: top;\n",
       "    }\n",
       "\n",
       "    .dataframe thead th {\n",
       "        text-align: right;\n",
       "    }\n",
       "</style>\n",
       "<table border=\"1\" class=\"dataframe\">\n",
       "  <thead>\n",
       "    <tr style=\"text-align: right;\">\n",
       "      <th></th>\n",
       "      <th>sku</th>\n",
       "      <th>product_name</th>\n",
       "      <th>price</th>\n",
       "      <th>product_category</th>\n",
       "      <th>pack_size</th>\n",
       "      <th>review_count</th>\n",
       "      <th>review_date</th>\n",
       "      <th>review_time</th>\n",
       "      <th>price_rating</th>\n",
       "      <th>quality_rating</th>\n",
       "      <th>...</th>\n",
       "      <th>url</th>\n",
       "      <th>date_of_creation</th>\n",
       "      <th>last_updated_date</th>\n",
       "      <th>states</th>\n",
       "      <th>year_of_creation</th>\n",
       "      <th>month_of_creation</th>\n",
       "      <th>day_of_creation</th>\n",
       "      <th>last_updated_year</th>\n",
       "      <th>last_updated_month</th>\n",
       "      <th>last_updated_day</th>\n",
       "    </tr>\n",
       "  </thead>\n",
       "  <tbody>\n",
       "    <tr>\n",
       "      <th>0</th>\n",
       "      <td>8904417301922</td>\n",
       "      <td>Moisture Matte Longstay Lipstick - 2g | Citrus...</td>\n",
       "      <td>499</td>\n",
       "      <td>face</td>\n",
       "      <td>2g</td>\n",
       "      <td>0</td>\n",
       "      <td>0</td>\n",
       "      <td>0</td>\n",
       "      <td>0</td>\n",
       "      <td>0</td>\n",
       "      <td>...</td>\n",
       "      <td>https://mamaearth.in/product/moisture-matte-lo...</td>\n",
       "      <td>2022-09-13</td>\n",
       "      <td>2022-09-19</td>\n",
       "      <td>uttar pradesh</td>\n",
       "      <td>2022</td>\n",
       "      <td>9</td>\n",
       "      <td>13</td>\n",
       "      <td>2022</td>\n",
       "      <td>9</td>\n",
       "      <td>19</td>\n",
       "    </tr>\n",
       "    <tr>\n",
       "      <th>1</th>\n",
       "      <td>8904417301915</td>\n",
       "      <td>Moisture Matte Longstay Lipstick - 2g | Berryl...</td>\n",
       "      <td>499</td>\n",
       "      <td>other</td>\n",
       "      <td>2g</td>\n",
       "      <td>0</td>\n",
       "      <td>0</td>\n",
       "      <td>0</td>\n",
       "      <td>0</td>\n",
       "      <td>0</td>\n",
       "      <td>...</td>\n",
       "      <td>https://mamaearth.in/product/moisture-matte-lo...</td>\n",
       "      <td>2022-09-13</td>\n",
       "      <td>2022-09-19</td>\n",
       "      <td>arunachal pradesh</td>\n",
       "      <td>2022</td>\n",
       "      <td>9</td>\n",
       "      <td>13</td>\n",
       "      <td>2022</td>\n",
       "      <td>9</td>\n",
       "      <td>19</td>\n",
       "    </tr>\n",
       "    <tr>\n",
       "      <th>2</th>\n",
       "      <td>8904417301908</td>\n",
       "      <td>Moisture Matte Longstay Lipstick -2g  | Cherry...</td>\n",
       "      <td>499</td>\n",
       "      <td>face</td>\n",
       "      <td>2g</td>\n",
       "      <td>0</td>\n",
       "      <td>0</td>\n",
       "      <td>0</td>\n",
       "      <td>0</td>\n",
       "      <td>0</td>\n",
       "      <td>...</td>\n",
       "      <td>https://mamaearth.in/product/moisture-matte-lo...</td>\n",
       "      <td>2022-09-13</td>\n",
       "      <td>2022-09-19</td>\n",
       "      <td>karnataka</td>\n",
       "      <td>2022</td>\n",
       "      <td>9</td>\n",
       "      <td>13</td>\n",
       "      <td>2022</td>\n",
       "      <td>9</td>\n",
       "      <td>19</td>\n",
       "    </tr>\n",
       "    <tr>\n",
       "      <th>3</th>\n",
       "      <td>8904417301892</td>\n",
       "      <td>Moisture Matte Long Stay Lipstick - 2g | Pink ...</td>\n",
       "      <td>499</td>\n",
       "      <td>face</td>\n",
       "      <td>2g</td>\n",
       "      <td>0</td>\n",
       "      <td>0</td>\n",
       "      <td>0</td>\n",
       "      <td>0</td>\n",
       "      <td>0</td>\n",
       "      <td>...</td>\n",
       "      <td>https://mamaearth.in/product/moisture-matte-lo...</td>\n",
       "      <td>2022-09-13</td>\n",
       "      <td>2022-09-19</td>\n",
       "      <td>gujarat</td>\n",
       "      <td>2022</td>\n",
       "      <td>9</td>\n",
       "      <td>13</td>\n",
       "      <td>2022</td>\n",
       "      <td>9</td>\n",
       "      <td>19</td>\n",
       "    </tr>\n",
       "    <tr>\n",
       "      <th>4</th>\n",
       "      <td>8904417303377</td>\n",
       "      <td>Vitamin C Daily Glow Face Cream - 80 g - Pack ...</td>\n",
       "      <td>498</td>\n",
       "      <td>skin</td>\n",
       "      <td>80g</td>\n",
       "      <td>2</td>\n",
       "      <td>2022-09-13</td>\n",
       "      <td>18:33:56</td>\n",
       "      <td>5</td>\n",
       "      <td>0</td>\n",
       "      <td>...</td>\n",
       "      <td>https://mamaearth.in/product/vitamin-c-daily-g...</td>\n",
       "      <td>2022-09-01</td>\n",
       "      <td>2022-09-12</td>\n",
       "      <td>madhya pradesh</td>\n",
       "      <td>2022</td>\n",
       "      <td>9</td>\n",
       "      <td>1</td>\n",
       "      <td>2022</td>\n",
       "      <td>9</td>\n",
       "      <td>12</td>\n",
       "    </tr>\n",
       "  </tbody>\n",
       "</table>\n",
       "<p>5 rows × 22 columns</p>\n",
       "</div>"
      ],
      "text/plain": [
       "             sku                                       product_name  price  \\\n",
       "0  8904417301922  Moisture Matte Longstay Lipstick - 2g | Citrus...    499   \n",
       "1  8904417301915  Moisture Matte Longstay Lipstick - 2g | Berryl...    499   \n",
       "2  8904417301908  Moisture Matte Longstay Lipstick -2g  | Cherry...    499   \n",
       "3  8904417301892  Moisture Matte Long Stay Lipstick - 2g | Pink ...    499   \n",
       "4  8904417303377  Vitamin C Daily Glow Face Cream - 80 g - Pack ...    498   \n",
       "\n",
       "  product_category pack_size  review_count review_date review_time  \\\n",
       "0             face        2g             0           0           0   \n",
       "1            other        2g             0           0           0   \n",
       "2             face        2g             0           0           0   \n",
       "3             face        2g             0           0           0   \n",
       "4             skin       80g             2  2022-09-13    18:33:56   \n",
       "\n",
       "   price_rating  quality_rating  ...  \\\n",
       "0             0               0  ...   \n",
       "1             0               0  ...   \n",
       "2             0               0  ...   \n",
       "3             0               0  ...   \n",
       "4             5               0  ...   \n",
       "\n",
       "                                                 url date_of_creation  \\\n",
       "0  https://mamaearth.in/product/moisture-matte-lo...       2022-09-13   \n",
       "1  https://mamaearth.in/product/moisture-matte-lo...       2022-09-13   \n",
       "2  https://mamaearth.in/product/moisture-matte-lo...       2022-09-13   \n",
       "3  https://mamaearth.in/product/moisture-matte-lo...       2022-09-13   \n",
       "4  https://mamaearth.in/product/vitamin-c-daily-g...       2022-09-01   \n",
       "\n",
       "  last_updated_date             states year_of_creation month_of_creation  \\\n",
       "0        2022-09-19      uttar pradesh             2022                 9   \n",
       "1        2022-09-19  arunachal pradesh             2022                 9   \n",
       "2        2022-09-19          karnataka             2022                 9   \n",
       "3        2022-09-19            gujarat             2022                 9   \n",
       "4        2022-09-12     madhya pradesh             2022                 9   \n",
       "\n",
       "  day_of_creation  last_updated_year  last_updated_month last_updated_day  \n",
       "0              13               2022                   9               19  \n",
       "1              13               2022                   9               19  \n",
       "2              13               2022                   9               19  \n",
       "3              13               2022                   9               19  \n",
       "4               1               2022                   9               12  \n",
       "\n",
       "[5 rows x 22 columns]"
      ]
     },
     "execution_count": 168,
     "metadata": {},
     "output_type": "execute_result"
    }
   ],
   "source": [
    "clean.head()"
   ]
  },
  {
   "cell_type": "code",
   "execution_count": 169,
   "metadata": {},
   "outputs": [],
   "source": [
    "clean.to_csv(\"clean_reviews.csv\", index=False)"
   ]
  },
  {
   "cell_type": "code",
   "execution_count": 170,
   "metadata": {},
   "outputs": [
    {
     "data": {
      "text/plain": [
       "product_category\n",
       "face          12395\n",
       "hair           6033\n",
       "skin           5618\n",
       "body           4501\n",
       "combo          1783\n",
       "kit            1395\n",
       "pregenancy       54\n",
       "other            35\n",
       "Name: count, dtype: int64"
      ]
     },
     "execution_count": 170,
     "metadata": {},
     "output_type": "execute_result"
    }
   ],
   "source": [
    "clean['product_category'].value_counts()"
   ]
  },
  {
   "cell_type": "code",
   "execution_count": 171,
   "metadata": {},
   "outputs": [
    {
     "data": {
      "text/plain": [
       "(31814, 22)"
      ]
     },
     "execution_count": 171,
     "metadata": {},
     "output_type": "execute_result"
    }
   ],
   "source": [
    "clean.shape"
   ]
  },
  {
   "cell_type": "code",
   "execution_count": 172,
   "metadata": {},
   "outputs": [
    {
     "name": "stdout",
     "output_type": "stream",
     "text": [
      "<img alt=\"Mamaearth Ultra Light Indian Sunscreen, spf 50 sunscreen\" src=\"https://images.mamaearth.in/catalog/product/u/l/ultra_light_indian_sunscreen_1_1.jpg?fit=contain&amp;height=600\"/>\n"
     ]
    },
    {
     "data": {
      "text/plain": [
       "'https://images.mamaearth.in/catalog/product/u/l/ultra_light_indian_sunscreen_1_1.jpg?fit=contain&height=600'"
      ]
     },
     "execution_count": 172,
     "metadata": {},
     "output_type": "execute_result"
    }
   ],
   "source": [
    "product_img_url(\"https://mamaearth.in/product/ultra-light-indian-sunscreen\")"
   ]
  },
  {
   "cell_type": "code",
   "execution_count": null,
   "metadata": {},
   "outputs": [],
   "source": []
  }
 ],
 "metadata": {
  "kernelspec": {
   "display_name": "Python 3",
   "language": "python",
   "name": "python3"
  },
  "language_info": {
   "codemirror_mode": {
    "name": "ipython",
    "version": 3
   },
   "file_extension": ".py",
   "mimetype": "text/x-python",
   "name": "python",
   "nbconvert_exporter": "python",
   "pygments_lexer": "ipython3",
   "version": "3.10.12"
  }
 },
 "nbformat": 4,
 "nbformat_minor": 2
}
