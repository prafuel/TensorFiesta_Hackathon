{
 "cells": [
  {
   "cell_type": "code",
   "execution_count": 1,
   "metadata": {},
   "outputs": [],
   "source": [
    "import os\n",
    "from dotenv import find_dotenv, load_dotenv\n",
    "\n",
    "load_dotenv(find_dotenv())\n",
    "\n",
    "HF_API_TOKEN = os.getenv('HUGGINGFACEHUB_API_TOKEN')\n",
    "# print(HF_API_TOKEN)\n"
   ]
  },
  {
   "cell_type": "code",
   "execution_count": 2,
   "metadata": {},
   "outputs": [],
   "source": [
    "from langchain import PromptTemplate, HuggingFaceHub\n",
    "from langchain.llms import CTransformers\n",
    "from langchain.chains import LLMChain"
   ]
  },
  {
   "cell_type": "code",
   "execution_count": 11,
   "metadata": {},
   "outputs": [
    {
     "data": {
      "application/vnd.jupyter.widget-view+json": {
       "model_id": "f63f497386894201a22b444e86435604",
       "version_major": 2,
       "version_minor": 0
      },
      "text/plain": [
       "Fetching 1 files:   0%|          | 0/1 [00:00<?, ?it/s]"
      ]
     },
     "metadata": {},
     "output_type": "display_data"
    },
    {
     "data": {
      "application/vnd.jupyter.widget-view+json": {
       "model_id": "69e8f6a129eb4fc6a72d6ca4651b607b",
       "version_major": 2,
       "version_minor": 0
      },
      "text/plain": [
       "Fetching 1 files:   0%|          | 0/1 [00:00<?, ?it/s]"
      ]
     },
     "metadata": {},
     "output_type": "display_data"
    }
   ],
   "source": [
    "llm = CTransformers(model=\"TheBloke/Llama-2-7B-Chat-GGML\",\n",
    "                    config={\"max_new_tokens\" : 256,\n",
    "                            \"temperature\":0.01})"
   ]
  },
  {
   "cell_type": "code",
   "execution_count": 8,
   "metadata": {},
   "outputs": [],
   "source": [
    "def get_prompt(df):\n",
    "    my_template = '''\n",
    "        df={input}\n",
    "        i want you to think like data analyst who is good at understanding line graphs which derived from following dataframe \"dataframe = df\", and your task is to \n",
    "        first analyze the dataframe it and in result give me exact 4 short key points in context of business pointof view based on analysis in the following python list format \n",
    "        key_points= [\n",
    "            key point 1,key point 2,key point 3,key point 4\n",
    "        ]\n",
    "        important, dont print anything, just print result in given format\n",
    "    '''\n",
    "    \n",
    "    prompt = PromptTemplate(\n",
    "    input_variables=['input'],\n",
    "    template=my_template\n",
    "    )\n",
    "\n",
    "    return prompt.format(input=df)\n",
    "\n"
   ]
  },
  {
   "cell_type": "code",
   "execution_count": 6,
   "metadata": {},
   "outputs": [],
   "source": [
    "def get_chain(llm, prompt):\n",
    "    chain = LLMChain(llm=llm, prompt=prompt)\n",
    "    return chain\n",
    "# chain = get_chain(llm, get_prompt)"
   ]
  },
  {
   "cell_type": "code",
   "execution_count": 16,
   "metadata": {},
   "outputs": [],
   "source": [
    "df =  {'price(rs)': [399,\n",
    "  349,\n",
    "  599,\n",
    "  499,\n",
    "  249,\n",
    "  299,\n",
    "  259,\n",
    "  319,\n",
    "  699,\n",
    "  1097,\n",
    "  449,\n",
    "  471,\n",
    "  375,\n",
    "  199,\n",
    "  149,\n",
    "  698,\n",
    "  498,\n",
    "  1297,\n",
    "  999,\n",
    "  1177,\n",
    "  1696,\n",
    "  798,\n",
    "  748,\n",
    "  1396,\n",
    "  598,\n",
    "  948,\n",
    "  419,\n",
    "  1346,\n",
    "  508,\n",
    "  799,\n",
    "  720,\n",
    "  1197,\n",
    "  500,\n",
    "  1247,\n",
    "  150,\n",
    "  608,\n",
    "  398,\n",
    "  750,\n",
    "  648,\n",
    "  908,\n",
    "  559,\n",
    "  1198,\n",
    "  1746,\n",
    "  1497,\n",
    "  518,\n",
    "  448,\n",
    "  1098,\n",
    "  1243,\n",
    "  1193,\n",
    "  447],\n",
    " 'order_count': [6439,\n",
    "  4146,\n",
    "  4023,\n",
    "  2809,\n",
    "  2750,\n",
    "  2030,\n",
    "  1208,\n",
    "  1139,\n",
    "  914,\n",
    "  696,\n",
    "  626,\n",
    "  615,\n",
    "  606,\n",
    "  556,\n",
    "  392,\n",
    "  341,\n",
    "  310,\n",
    "  175,\n",
    "  172,\n",
    "  171,\n",
    "  165,\n",
    "  142,\n",
    "  135,\n",
    "  117,\n",
    "  115,\n",
    "  111,\n",
    "  104,\n",
    "  85,\n",
    "  70,\n",
    "  65,\n",
    "  59,\n",
    "  54,\n",
    "  54,\n",
    "  53,\n",
    "  44,\n",
    "  40,\n",
    "  35,\n",
    "  32,\n",
    "  31,\n",
    "  28,\n",
    "  28,\n",
    "  26,\n",
    "  25,\n",
    "  23,\n",
    "  20,\n",
    "  18,\n",
    "  13,\n",
    "  2,\n",
    "  1,\n",
    "  1]} "
   ]
  },
  {
   "cell_type": "code",
   "execution_count": 3,
   "metadata": {},
   "outputs": [],
   "source": [
    "df = {\n",
    "    \"price(rs)\" : [399,599,33,10,444],\n",
    "    \"sold_count\" : [200,33,222,44,33]\n",
    "}"
   ]
  },
  {
   "cell_type": "code",
   "execution_count": 12,
   "metadata": {},
   "outputs": [],
   "source": [
    "p = get_prompt(df)"
   ]
  },
  {
   "cell_type": "code",
   "execution_count": 13,
   "metadata": {},
   "outputs": [
    {
     "data": {
      "text/plain": [
       "LLMResult(generations=[[Generation(text='\\n    \"\"\"\\n\\n    # Analyze the line graph data and provide 4 key points based on business perspective.\\n    # Key points:\\n    # 1. Price trend: The price of the product has been steadily increasing over time.\\n    # 2. Sales volume: The number of sales has been consistently high, indicating strong demand for the product.\\n    # 3. Sales distribution: The majority of sales are concentrated in the lower price range (<$500).\\n    # 4. Sales growth: There has been a steady increase in sales over time, indicating a growing market for the product.\\n\\n    # Example:\\n    # Key point 1: Price trend\\n    # The price of the product has been steadily increasing over time, indicating a growing demand and value for the product.\\n    \\n    # Key point 2: Sales volume\\n    # The number of sales has been consistently high, indicating strong demand for the product and a growing market.\\n    \\n    # Key point 3: Sales distribution\\n    # The majority of sales are concentrated in the lower price range (<$500), indicating that the product is accessible to')]], llm_output=None, run=[RunInfo(run_id=UUID('a4c3cbba-acfd-48aa-91bd-3da2b21b81a1'))])"
      ]
     },
     "execution_count": 13,
     "metadata": {},
     "output_type": "execute_result"
    }
   ],
   "source": [
    "llm.generate([p])"
   ]
  },
  {
   "cell_type": "code",
   "execution_count": null,
   "metadata": {},
   "outputs": [],
   "source": []
  },
  {
   "cell_type": "code",
   "execution_count": 21,
   "metadata": {},
   "outputs": [
    {
     "name": "stdout",
     "output_type": "stream",
     "text": [
      "{'output': '\\n        df=ok\\n        i want you to think like data analyst who is good at understanding line graphs which derived from following dataframe \"dataframe = df\", and your task is to \\n        first analyze the dataframe it and in result give me exact 4 short key points in context of business pointof view based on analysis in the following python list format \\n        key_points= [\\n            key point 1,key point 2,key point 3,key point 4\\n        ]\\n        important, dont print anything, just print result in given format\\n    '}\n"
     ]
    }
   ],
   "source": [
    "# sending request to llm_results flask app for llm results\n",
    "\n",
    "import requests\n",
    "url = \"http://127.0.0.1:8000\"\n",
    "res = requests.post(url, json={\"user\" : \"ok\"})\n",
    "print(res.json())"
   ]
  },
  {
   "cell_type": "code",
   "execution_count": null,
   "metadata": {},
   "outputs": [],
   "source": []
  },
  {
   "cell_type": "code",
   "execution_count": null,
   "metadata": {},
   "outputs": [],
   "source": []
  },
  {
   "cell_type": "code",
   "execution_count": null,
   "metadata": {},
   "outputs": [],
   "source": [
    "# we have to create llmchains, chains can be picklable"
   ]
  },
  {
   "cell_type": "code",
   "execution_count": null,
   "metadata": {},
   "outputs": [],
   "source": [
    "import pickle\n",
    "with open('llm_model.pkl', 'wb') as f:\n",
    "    pickle.dump(llm, f)"
   ]
  },
  {
   "cell_type": "code",
   "execution_count": null,
   "metadata": {},
   "outputs": [],
   "source": []
  }
 ],
 "metadata": {
  "kernelspec": {
   "display_name": "Python 3",
   "language": "python",
   "name": "python3"
  },
  "language_info": {
   "codemirror_mode": {
    "name": "ipython",
    "version": 3
   },
   "file_extension": ".py",
   "mimetype": "text/x-python",
   "name": "python",
   "nbconvert_exporter": "python",
   "pygments_lexer": "ipython3",
   "version": "3.10.12"
  }
 },
 "nbformat": 4,
 "nbformat_minor": 2
}
